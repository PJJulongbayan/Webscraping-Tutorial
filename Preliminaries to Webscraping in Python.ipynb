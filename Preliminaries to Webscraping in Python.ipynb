{
 "cells": [
  {
   "cell_type": "markdown",
   "id": "4aa0d8c3-f72e-42d5-974b-d425caecb4d5",
   "metadata": {},
   "source": [
    "### This notebook demonstrates webscraping in Python."
   ]
  },
  {
   "cell_type": "code",
   "execution_count": null,
   "id": "1b54f9d1-57ce-4832-b1e3-68e921e725e3",
   "metadata": {},
   "outputs": [],
   "source": [
    "# load the necessary libraries. BeautifulSoup is a common library used for webscraping. "
   ]
  },
  {
   "cell_type": "code",
   "execution_count": 10,
   "id": "8d18635e-a771-442f-9040-044794e459de",
   "metadata": {},
   "outputs": [],
   "source": [
    "import pandas as pd\n",
    "import numpy as np\n",
    "import requests\n",
    "import json\n",
    "import matplotlib.pyplot as plt\n",
    "import html5lib\n",
    "from bs4 import BeautifulSoup"
   ]
  },
  {
   "cell_type": "markdown",
   "id": "73814e46-d274-4039-b022-12af3fd672e2",
   "metadata": {},
   "source": [
    "#### The first section is to demonstrate a sample portion of the website html content, its structure, and how beautiful soup can be used to read the html. "
   ]
  },
  {
   "cell_type": "code",
   "execution_count": 20,
   "id": "f20f3df0-a3f9-437a-938e-60b4a61335d0",
   "metadata": {},
   "outputs": [],
   "source": [
    "html = \"<!DOCTYPE html><html><head><title>Page Title</title></head><body><h3> \\\n",
    "<b id='boldest'>Lebron James</b></h3><p> Salary: $ 92,000,000 </p> \\\n",
    "<h3>Stephen Curry</h3><p> Salary: $85,000,000</p> \\\n",
    "<h3>Kevin Durant</h3><p> Salary: $73,200,000</p></body></html>\""
   ]
  },
  {
   "cell_type": "code",
   "execution_count": 21,
   "id": "78e26409-392c-4e03-826a-ed8067409247",
   "metadata": {},
   "outputs": [],
   "source": [
    "# Instantiate the html document as soup\n",
    "soup = BeautifulSoup(html, 'html5lib')"
   ]
  },
  {
   "cell_type": "code",
   "execution_count": 22,
   "id": "3741b87f-6eca-4a01-825e-af27e19f3af1",
   "metadata": {},
   "outputs": [
    {
     "name": "stdout",
     "output_type": "stream",
     "text": [
      "<!DOCTYPE html>\n",
      "<html>\n",
      " <head>\n",
      "  <title>\n",
      "   Page Title\n",
      "  </title>\n",
      " </head>\n",
      " <body>\n",
      "  <h3>\n",
      "   <b id=\"boldest\">\n",
      "    Lebron James\n",
      "   </b>\n",
      "  </h3>\n",
      "  <p>\n",
      "   Salary: $ 92,000,000\n",
      "  </p>\n",
      "  <h3>\n",
      "   Stephen Curry\n",
      "  </h3>\n",
      "  <p>\n",
      "   Salary: $85,000,000\n",
      "  </p>\n",
      "  <h3>\n",
      "   Kevin Durant\n",
      "  </h3>\n",
      "  <p>\n",
      "   Salary: $73,200,000\n",
      "  </p>\n",
      " </body>\n",
      "</html>\n",
      "\n"
     ]
    }
   ],
   "source": [
    "# Using prettify to view the html structure\n",
    "print(soup.prettify())"
   ]
  },
  {
   "cell_type": "code",
   "execution_count": 23,
   "id": "e7357f61-6260-4bcc-911b-6cc4971c360f",
   "metadata": {},
   "outputs": [
    {
     "name": "stdout",
     "output_type": "stream",
     "text": [
      "tag object: <title>Page Title</title>\n"
     ]
    }
   ],
   "source": [
    "# Assign tag object to the html title and determine type\n",
    "tag_object = soup.title\n",
    "print(\"tag object:\", tag_object)"
   ]
  },
  {
   "cell_type": "code",
   "execution_count": 24,
   "id": "77fa0fda-a846-46eb-aaf2-ab67db172d58",
   "metadata": {},
   "outputs": [
    {
     "name": "stdout",
     "output_type": "stream",
     "text": [
      "tag object type: <class 'bs4.element.Tag'>\n"
     ]
    }
   ],
   "source": [
    "print(\"tag object type:\", type(tag_object))"
   ]
  },
  {
   "cell_type": "code",
   "execution_count": null,
   "id": "156d092d-7698-4c81-a2a1-47d8de3a310c",
   "metadata": {},
   "outputs": [],
   "source": [
    "# Assign another tab object to the h3 component <h3>"
   ]
  },
  {
   "cell_type": "code",
   "execution_count": 25,
   "id": "681ec452-96b8-4ed2-8c1e-a8847294300d",
   "metadata": {},
   "outputs": [
    {
     "data": {
      "text/plain": [
       "<h3> <b id=\"boldest\">Lebron James</b></h3>"
      ]
     },
     "execution_count": 25,
     "metadata": {},
     "output_type": "execute_result"
    }
   ],
   "source": [
    "tag_object = soup.h3\n",
    "tag_object"
   ]
  },
  {
   "cell_type": "code",
   "execution_count": null,
   "id": "0e9e76d5-b1b2-489e-9e10-86e7d6c9b33e",
   "metadata": {},
   "outputs": [],
   "source": [
    "# get child of the tag object"
   ]
  },
  {
   "cell_type": "code",
   "execution_count": 26,
   "id": "34b6145e-71e4-4fae-a7d6-51dbceb91f3b",
   "metadata": {},
   "outputs": [
    {
     "data": {
      "text/plain": [
       "<b id=\"boldest\">Lebron James</b>"
      ]
     },
     "execution_count": 26,
     "metadata": {},
     "output_type": "execute_result"
    }
   ],
   "source": [
    "tag_child = tag_object.b\n",
    "tag_child"
   ]
  },
  {
   "cell_type": "code",
   "execution_count": null,
   "id": "9abda9c1-94be-4bfc-b5d1-36cf316c21e1",
   "metadata": {},
   "outputs": [],
   "source": [
    "# get parent of the child object - which will be similar to tab_object"
   ]
  },
  {
   "cell_type": "code",
   "execution_count": 27,
   "id": "70cd2418-15da-43b8-8f6d-efa83a1952e2",
   "metadata": {},
   "outputs": [
    {
     "data": {
      "text/plain": [
       "<h3> <b id=\"boldest\">Lebron James</b></h3>"
      ]
     },
     "execution_count": 27,
     "metadata": {},
     "output_type": "execute_result"
    }
   ],
   "source": [
    "parent_tag = tag_child.parent\n",
    "parent_tag"
   ]
  },
  {
   "cell_type": "code",
   "execution_count": 28,
   "id": "a02a7e6c-c33c-4d31-86bc-8a8cee4f4d01",
   "metadata": {},
   "outputs": [
    {
     "data": {
      "text/plain": [
       "<body><h3> <b id=\"boldest\">Lebron James</b></h3><p> Salary: $ 92,000,000 </p> <h3>Stephen Curry</h3><p> Salary: $85,000,000</p> <h3>Kevin Durant</h3><p> Salary: $73,200,000</p></body>"
      ]
     },
     "execution_count": 28,
     "metadata": {},
     "output_type": "execute_result"
    }
   ],
   "source": [
    "tag_object.parent"
   ]
  },
  {
   "cell_type": "code",
   "execution_count": 29,
   "id": "9301b0e2-964d-42be-8fc1-702d0ca2f2b8",
   "metadata": {},
   "outputs": [
    {
     "data": {
      "text/plain": [
       "<p> Salary: $ 92,000,000 </p>"
      ]
     },
     "execution_count": 29,
     "metadata": {},
     "output_type": "execute_result"
    }
   ],
   "source": [
    "sibling_1 = tag_object.next_sibling\n",
    "sibling_1"
   ]
  },
  {
   "cell_type": "code",
   "execution_count": 30,
   "id": "c373217d-e998-429a-bbe2-80343229595e",
   "metadata": {},
   "outputs": [
    {
     "data": {
      "text/plain": [
       "' '"
      ]
     },
     "execution_count": 30,
     "metadata": {},
     "output_type": "execute_result"
    }
   ],
   "source": [
    "sibling_2 = sibling_1.next_sibling\n",
    "sibling_2"
   ]
  },
  {
   "cell_type": "code",
   "execution_count": 31,
   "id": "4ab4243a-2add-4bc5-8303-f437dad4f128",
   "metadata": {},
   "outputs": [
    {
     "data": {
      "text/plain": [
       "<p> Salary: $85,000,000</p>"
      ]
     },
     "execution_count": 31,
     "metadata": {},
     "output_type": "execute_result"
    }
   ],
   "source": [
    "sibling_2.next_sibling.next_sibling # salary of steph curry "
   ]
  },
  {
   "cell_type": "code",
   "execution_count": 32,
   "id": "f61df534-edf1-4863-bfdc-1164b37523d8",
   "metadata": {},
   "outputs": [],
   "source": [
    "# id is an attribute of tag b "
   ]
  },
  {
   "cell_type": "code",
   "execution_count": 33,
   "id": "44d129d3-2241-45af-9576-656164a51ba7",
   "metadata": {},
   "outputs": [
    {
     "data": {
      "text/plain": [
       "{'id': 'boldest'}"
      ]
     },
     "execution_count": 33,
     "metadata": {},
     "output_type": "execute_result"
    }
   ],
   "source": [
    "tag_child.attrs"
   ]
  },
  {
   "cell_type": "code",
   "execution_count": 34,
   "id": "063f064b-10fa-46e5-8929-660a1e150029",
   "metadata": {},
   "outputs": [
    {
     "data": {
      "text/plain": [
       "'boldest'"
      ]
     },
     "execution_count": 34,
     "metadata": {},
     "output_type": "execute_result"
    }
   ],
   "source": [
    "tag_child['id']"
   ]
  },
  {
   "cell_type": "code",
   "execution_count": 35,
   "id": "b0fda0d4-f521-4d90-aa24-1aef77dff1b3",
   "metadata": {},
   "outputs": [
    {
     "data": {
      "text/plain": [
       "'boldest'"
      ]
     },
     "execution_count": 35,
     "metadata": {},
     "output_type": "execute_result"
    }
   ],
   "source": [
    "tag_child.get('id') # We can also obtain the content of the attribute of the tag using the Python get() method."
   ]
  },
  {
   "cell_type": "code",
   "execution_count": 36,
   "id": "e9673a00-0036-4548-9cd5-4f1e5773bfbc",
   "metadata": {},
   "outputs": [
    {
     "data": {
      "text/plain": [
       "'Lebron James'"
      ]
     },
     "execution_count": 36,
     "metadata": {},
     "output_type": "execute_result"
    }
   ],
   "source": [
    "tag_string = tag_child.string\n",
    "tag_string"
   ]
  },
  {
   "cell_type": "code",
   "execution_count": 37,
   "id": "d30bbaf1-caee-4041-b1c5-b87ea9e0d2a2",
   "metadata": {},
   "outputs": [
    {
     "data": {
      "text/plain": [
       "'Lebron James'"
      ]
     },
     "execution_count": 37,
     "metadata": {},
     "output_type": "execute_result"
    }
   ],
   "source": [
    "unicode_string = str(tag_string) ## convert beautifulsoup string to Python string\n",
    "unicode_string"
   ]
  },
  {
   "cell_type": "markdown",
   "id": "c0aa6117-686f-4aef-acaf-7eea7b68c021",
   "metadata": {},
   "source": [
    "#### The second section is to demonstrate a sample portion of a table structure in html and how beautiful soup can be utilized. "
   ]
  },
  {
   "cell_type": "code",
   "execution_count": 43,
   "id": "c10c28db-ac1d-43fd-8914-b4c3017dc2fb",
   "metadata": {},
   "outputs": [],
   "source": [
    "# Instantiate the html table"
   ]
  },
  {
   "cell_type": "code",
   "execution_count": 44,
   "id": "120264c4-34ca-460b-a00d-d2e545c7a167",
   "metadata": {},
   "outputs": [],
   "source": [
    "table = \"<table><tr><td id='flight'>Flight No</td><td>Launch site</td> \\\n",
    "<td>Payload mass</td></tr><tr> <td>1</td> \\\n",
    "<td><a href='https://en.wikipedia.org/wiki/Florida'>Florida<a></td> \\\n",
    "<td>300 kg</td></tr><tr><td>2</td> \\\n",
    "<td><a href='https://en.wikipedia.org/wiki/Texas'>Texas</a></td> \\\n",
    "<td>94 kg</td></tr><tr><td>3</td> \\\n",
    "<td><a href='https://en.wikipedia.org/wiki/Florida'>Florida<a> </td> \\\n",
    "<td>80 kg</td></tr></table>\""
   ]
  },
  {
   "cell_type": "code",
   "execution_count": 45,
   "id": "210503b5-0eba-42a6-bc61-6eb2e662fc9a",
   "metadata": {},
   "outputs": [],
   "source": [
    "table_bs = BeautifulSoup(table, 'html5lib')"
   ]
  },
  {
   "cell_type": "code",
   "execution_count": 46,
   "id": "37b32095-a312-426b-91af-ed53a2a15de4",
   "metadata": {},
   "outputs": [
    {
     "data": {
      "text/plain": [
       "<html><head></head><body><table><tbody><tr><td id=\"flight\">Flight No</td><td>Launch site</td> <td>Payload mass</td></tr><tr> <td>1</td> <td><a href=\"https://en.wikipedia.org/wiki/Florida\">Florida</a><a></a></td> <td>300 kg</td></tr><tr><td>2</td> <td><a href=\"https://en.wikipedia.org/wiki/Texas\">Texas</a></td> <td>94 kg</td></tr><tr><td>3</td> <td><a href=\"https://en.wikipedia.org/wiki/Florida\">Florida</a><a> </a></td> <td>80 kg</td></tr></tbody></table></body></html>"
      ]
     },
     "execution_count": 46,
     "metadata": {},
     "output_type": "execute_result"
    }
   ],
   "source": [
    "table_bs"
   ]
  },
  {
   "cell_type": "code",
   "execution_count": 47,
   "id": "ba8b91c9-a5ec-41cd-ac01-cfa829d07ec5",
   "metadata": {},
   "outputs": [],
   "source": [
    "# find all tags including tr (usually an indicator of table)"
   ]
  },
  {
   "cell_type": "code",
   "execution_count": 48,
   "id": "9ec7aa11-307a-411a-a0d3-9d18f98fbaab",
   "metadata": {},
   "outputs": [
    {
     "data": {
      "text/plain": [
       "[<tr><td id=\"flight\">Flight No</td><td>Launch site</td> <td>Payload mass</td></tr>,\n",
       " <tr> <td>1</td> <td><a href=\"https://en.wikipedia.org/wiki/Florida\">Florida</a><a></a></td> <td>300 kg</td></tr>,\n",
       " <tr><td>2</td> <td><a href=\"https://en.wikipedia.org/wiki/Texas\">Texas</a></td> <td>94 kg</td></tr>,\n",
       " <tr><td>3</td> <td><a href=\"https://en.wikipedia.org/wiki/Florida\">Florida</a><a> </a></td> <td>80 kg</td></tr>]"
      ]
     },
     "execution_count": 48,
     "metadata": {},
     "output_type": "execute_result"
    }
   ],
   "source": [
    "table_rows = table_bs.find_all('tr')\n",
    "table_rows"
   ]
  },
  {
   "cell_type": "code",
   "execution_count": 49,
   "id": "d1f1ba39-6a86-4d94-8907-34e5ee8b99d9",
   "metadata": {},
   "outputs": [
    {
     "data": {
      "text/plain": [
       "<tr><td id=\"flight\">Flight No</td><td>Launch site</td> <td>Payload mass</td></tr>"
      ]
     },
     "execution_count": 49,
     "metadata": {},
     "output_type": "execute_result"
    }
   ],
   "source": [
    "first_row = table_rows[0]\n",
    "first_row"
   ]
  },
  {
   "cell_type": "code",
   "execution_count": 50,
   "id": "0ceacff0-dccf-45d6-83e8-d6d37e75934a",
   "metadata": {},
   "outputs": [
    {
     "data": {
      "text/plain": [
       "<td>1</td>"
      ]
     },
     "execution_count": 50,
     "metadata": {},
     "output_type": "execute_result"
    }
   ],
   "source": [
    "first_row.next_sibling.td"
   ]
  },
  {
   "cell_type": "code",
   "execution_count": 53,
   "id": "87812ac1-310d-4905-b658-9813d167b526",
   "metadata": {},
   "outputs": [
    {
     "name": "stdout",
     "output_type": "stream",
     "text": [
      "row 0 is <tr><td id=\"flight\">Flight No</td><td>Launch site</td> <td>Payload mass</td></tr>\n",
      "row 1 is <tr> <td>1</td> <td><a href=\"https://en.wikipedia.org/wiki/Florida\">Florida</a><a></a></td> <td>300 kg</td></tr>\n",
      "row 2 is <tr><td>2</td> <td><a href=\"https://en.wikipedia.org/wiki/Texas\">Texas</a></td> <td>94 kg</td></tr>\n",
      "row 3 is <tr><td>3</td> <td><a href=\"https://en.wikipedia.org/wiki/Florida\">Florida</a><a> </a></td> <td>80 kg</td></tr>\n"
     ]
    }
   ],
   "source": [
    "# print all rows to view the table structure in row form\n",
    "for i, row in enumerate(table_rows):\n",
    "    print(\"row\", i, \"is\", row)"
   ]
  },
  {
   "cell_type": "code",
   "execution_count": 54,
   "id": "cc71b0ce-3373-49c6-8f76-8b5ad15f6dfc",
   "metadata": {},
   "outputs": [
    {
     "name": "stdout",
     "output_type": "stream",
     "text": [
      "row 0\n",
      "column 0 cell <td id=\"flight\">Flight No</td>\n",
      "column 1 cell <td>Launch site</td>\n",
      "column 2 cell <td>Payload mass</td>\n",
      "row 1\n",
      "column 0 cell <td>1</td>\n",
      "column 1 cell <td><a href=\"https://en.wikipedia.org/wiki/Florida\">Florida</a><a></a></td>\n",
      "column 2 cell <td>300 kg</td>\n",
      "row 2\n",
      "column 0 cell <td>2</td>\n",
      "column 1 cell <td><a href=\"https://en.wikipedia.org/wiki/Texas\">Texas</a></td>\n",
      "column 2 cell <td>94 kg</td>\n",
      "row 3\n",
      "column 0 cell <td>3</td>\n",
      "column 1 cell <td><a href=\"https://en.wikipedia.org/wiki/Florida\">Florida</a><a> </a></td>\n",
      "column 2 cell <td>80 kg</td>\n"
     ]
    }
   ],
   "source": [
    "for i, row in enumerate(table_rows):\n",
    "    print(\"row\", i)\n",
    "    cells = row.find_all('td')\n",
    "    for j, cell in enumerate(cells):\n",
    "        print('column', j, \"cell\", cell)"
   ]
  },
  {
   "cell_type": "code",
   "execution_count": 55,
   "id": "6930af25-b955-4d1a-b1f4-a092ccbb8eae",
   "metadata": {},
   "outputs": [
    {
     "data": {
      "text/plain": [
       "[<tr><td id=\"flight\">Flight No</td><td>Launch site</td> <td>Payload mass</td></tr>,\n",
       " <td id=\"flight\">Flight No</td>,\n",
       " <td>Launch site</td>,\n",
       " <td>Payload mass</td>,\n",
       " <tr> <td>1</td> <td><a href=\"https://en.wikipedia.org/wiki/Florida\">Florida</a><a></a></td> <td>300 kg</td></tr>,\n",
       " <td>1</td>,\n",
       " <td><a href=\"https://en.wikipedia.org/wiki/Florida\">Florida</a><a></a></td>,\n",
       " <td>300 kg</td>,\n",
       " <tr><td>2</td> <td><a href=\"https://en.wikipedia.org/wiki/Texas\">Texas</a></td> <td>94 kg</td></tr>,\n",
       " <td>2</td>,\n",
       " <td><a href=\"https://en.wikipedia.org/wiki/Texas\">Texas</a></td>,\n",
       " <td>94 kg</td>,\n",
       " <tr><td>3</td> <td><a href=\"https://en.wikipedia.org/wiki/Florida\">Florida</a><a> </a></td> <td>80 kg</td></tr>,\n",
       " <td>3</td>,\n",
       " <td><a href=\"https://en.wikipedia.org/wiki/Florida\">Florida</a><a> </a></td>,\n",
       " <td>80 kg</td>]"
      ]
     },
     "execution_count": 55,
     "metadata": {},
     "output_type": "execute_result"
    }
   ],
   "source": [
    "list_input = table_bs.find_all([\"tr\", \"td\"])\n",
    "list_input"
   ]
  },
  {
   "cell_type": "code",
   "execution_count": 57,
   "id": "bc5712e7-b4d2-4bc6-8a68-9f71e7804b29",
   "metadata": {},
   "outputs": [],
   "source": [
    "# find all references to Florida wiki"
   ]
  },
  {
   "cell_type": "code",
   "execution_count": 58,
   "id": "293d9d3e-627a-48a9-9841-ed68a97344d2",
   "metadata": {},
   "outputs": [
    {
     "data": {
      "text/plain": [
       "[<a href=\"https://en.wikipedia.org/wiki/Florida\">Florida</a>,\n",
       " <a href=\"https://en.wikipedia.org/wiki/Florida\">Florida</a>]"
      ]
     },
     "execution_count": 58,
     "metadata": {},
     "output_type": "execute_result"
    }
   ],
   "source": [
    "list_input = table_bs.find_all(href=\"https://en.wikipedia.org/wiki/Florida\")\n",
    "list_input"
   ]
  },
  {
   "cell_type": "code",
   "execution_count": 59,
   "id": "078ddb3c-ee89-495b-896d-c3b9dbaf4e12",
   "metadata": {},
   "outputs": [
    {
     "data": {
      "text/plain": [
       "[<a href=\"https://en.wikipedia.org/wiki/Florida\">Florida</a>,\n",
       " <a href=\"https://en.wikipedia.org/wiki/Texas\">Texas</a>,\n",
       " <a href=\"https://en.wikipedia.org/wiki/Florida\">Florida</a>]"
      ]
     },
     "execution_count": 59,
     "metadata": {},
     "output_type": "execute_result"
    }
   ],
   "source": [
    "table_bs.find_all('a', href=True)"
   ]
  },
  {
   "cell_type": "code",
   "execution_count": 60,
   "id": "7e82875d-88d3-4748-8d87-c0e23dd539fb",
   "metadata": {},
   "outputs": [
    {
     "data": {
      "text/plain": [
       "[<a></a>, <a> </a>]"
      ]
     },
     "execution_count": 60,
     "metadata": {},
     "output_type": "execute_result"
    }
   ],
   "source": [
    "table_bs.find_all('a', href=False)"
   ]
  },
  {
   "cell_type": "code",
   "execution_count": 61,
   "id": "339e5ec9-a3da-4469-be0b-b39cab35691a",
   "metadata": {},
   "outputs": [
    {
     "data": {
      "text/plain": [
       "[<b id=\"boldest\">Lebron James</b>]"
      ]
     },
     "execution_count": 61,
     "metadata": {},
     "output_type": "execute_result"
    }
   ],
   "source": [
    "soup.find_all(id=\"boldest\")"
   ]
  },
  {
   "cell_type": "code",
   "execution_count": 62,
   "id": "289dca2c-3712-4ad6-a160-803acbc82af1",
   "metadata": {},
   "outputs": [
    {
     "data": {
      "text/plain": [
       "['Florida', 'Florida']"
      ]
     },
     "execution_count": 62,
     "metadata": {},
     "output_type": "execute_result"
    }
   ],
   "source": [
    "table_bs.find_all(string=\"Florida\")"
   ]
  },
  {
   "cell_type": "markdown",
   "id": "d631e919-db57-4cae-abce-96c69a5f8919",
   "metadata": {},
   "source": [
    "#### This section applies the method above to scrape data from the web. "
   ]
  },
  {
   "cell_type": "code",
   "execution_count": 78,
   "id": "9ed6b3d7-683c-4efe-9764-931273b05cd9",
   "metadata": {},
   "outputs": [],
   "source": [
    "# define url and get request"
   ]
  },
  {
   "cell_type": "code",
   "execution_count": 77,
   "id": "69690623-6cb9-4daa-9e31-c0ebb6f83f6b",
   "metadata": {},
   "outputs": [],
   "source": [
    "url = \"https://cf-courses-data.s3.us.cloud-object-storage.appdomain.cloud/IBM-DA0321EN-SkillsNetwork/labs/datasets/HTMLColorCodes.html\""
   ]
  },
  {
   "cell_type": "code",
   "execution_count": 79,
   "id": "7c00bb8a-dabc-40dc-bb23-473c77561e0b",
   "metadata": {},
   "outputs": [],
   "source": [
    "data = requests.get(url).text"
   ]
  },
  {
   "cell_type": "code",
   "execution_count": 80,
   "id": "0f874fdc-a9da-445d-9eef-7ae097e2f5f0",
   "metadata": {},
   "outputs": [],
   "source": [
    "soup = BeautifulSoup(data, \"html5lib\") # instantiate the soup object"
   ]
  },
  {
   "cell_type": "code",
   "execution_count": 81,
   "id": "2f0f14d3-ffdd-4cad-bc5a-171c2f9166e8",
   "metadata": {},
   "outputs": [],
   "source": [
    "# find a html table in the web page\n",
    "table = soup.find('table')  # in html table is represented by the tag <table>"
   ]
  },
  {
   "cell_type": "code",
   "execution_count": 82,
   "id": "1954688e-03f5-43fc-bfeb-ddd90201e8b2",
   "metadata": {},
   "outputs": [
    {
     "name": "stdout",
     "output_type": "stream",
     "text": [
      "Color Name--->Hex Code#RRGGBB\n",
      "lightsalmon--->#FFA07A\n",
      "salmon--->#FA8072\n",
      "darksalmon--->#E9967A\n",
      "lightcoral--->#F08080\n",
      "coral--->#FF7F50\n",
      "tomato--->#FF6347\n",
      "orangered--->#FF4500\n",
      "gold--->#FFD700\n",
      "orange--->#FFA500\n",
      "darkorange--->#FF8C00\n",
      "lightyellow--->#FFFFE0\n",
      "lemonchiffon--->#FFFACD\n",
      "papayawhip--->#FFEFD5\n",
      "moccasin--->#FFE4B5\n",
      "peachpuff--->#FFDAB9\n",
      "palegoldenrod--->#EEE8AA\n",
      "khaki--->#F0E68C\n",
      "darkkhaki--->#BDB76B\n",
      "yellow--->#FFFF00\n",
      "lawngreen--->#7CFC00\n",
      "chartreuse--->#7FFF00\n",
      "limegreen--->#32CD32\n",
      "lime--->#00FF00\n",
      "forestgreen--->#228B22\n",
      "green--->#008000\n",
      "powderblue--->#B0E0E6\n",
      "lightblue--->#ADD8E6\n",
      "lightskyblue--->#87CEFA\n",
      "skyblue--->#87CEEB\n",
      "deepskyblue--->#00BFFF\n",
      "lightsteelblue--->#B0C4DE\n",
      "dodgerblue--->#1E90FF\n"
     ]
    }
   ],
   "source": [
    "# Get all rows from the table\n",
    "for row in table.find_all('tr'):  # in html table row represented by tag <tr>\n",
    "    # Get all columns in each row.\n",
    "    cols = row.find_all('td')  # in html a column is represented by tag <td>\n",
    "    color_name = cols[2].string  # store the value in column 3 as color_name\n",
    "    color_code = cols[3].text  # store the value in column 4 as color_code\n",
    "    print(\"{}--->{}\".format(color_name, color_code))"
   ]
  },
  {
   "cell_type": "code",
   "execution_count": 83,
   "id": "7d3068ca-1fda-4378-92fa-4effb9c18181",
   "metadata": {},
   "outputs": [],
   "source": [
    "# the code above can now be processed using pandas dataframe as needed."
   ]
  },
  {
   "cell_type": "code",
   "execution_count": 85,
   "id": "b0d6afcb-591b-4d71-baa5-cdcd3a9658b7",
   "metadata": {},
   "outputs": [],
   "source": [
    "# the below approach uses lxml library instead"
   ]
  },
  {
   "cell_type": "code",
   "execution_count": 86,
   "id": "a3ead109-8c53-4894-b8b1-b7940d67d989",
   "metadata": {},
   "outputs": [],
   "source": [
    "url = \"https://cf-courses-data.s3.us.cloud-object-storage.appdomain.cloud/IBM-DA0321EN-SkillsNetwork/labs/datasets/HTMLColorCodes.html\""
   ]
  },
  {
   "cell_type": "code",
   "execution_count": 87,
   "id": "673bf804-f4ad-437d-96a8-065e434dad45",
   "metadata": {},
   "outputs": [],
   "source": [
    "import lxml ## used for reading url in Pandas"
   ]
  },
  {
   "cell_type": "code",
   "execution_count": 88,
   "id": "b3134714-af57-4215-8940-56f8f2dee338",
   "metadata": {},
   "outputs": [],
   "source": [
    "tables = pd.read_html(url)"
   ]
  },
  {
   "cell_type": "code",
   "execution_count": 89,
   "id": "33f4c530-3514-497b-80bf-2aa44a592235",
   "metadata": {},
   "outputs": [
    {
     "name": "stdout",
     "output_type": "stream",
     "text": [
      "[         0      1               2                 3                     4\n",
      "0   Number  Color      Color Name  Hex Code #RRGGBB  Decimal Code (R,G,B)\n",
      "1        1    NaN     lightsalmon           #FFA07A      rgb(255,160,122)\n",
      "2        2    NaN          salmon           #FA8072      rgb(250,128,114)\n",
      "3        3    NaN      darksalmon           #E9967A      rgb(233,150,122)\n",
      "4        4    NaN      lightcoral           #F08080      rgb(240,128,128)\n",
      "5        5    NaN           coral           #FF7F50       rgb(255,127,80)\n",
      "6        6    NaN          tomato           #FF6347        rgb(255,99,71)\n",
      "7        7    NaN       orangered           #FF4500         rgb(255,69,0)\n",
      "8        8    NaN            gold           #FFD700        rgb(255,215,0)\n",
      "9        9    NaN          orange           #FFA500        rgb(255,165,0)\n",
      "10      10    NaN      darkorange           #FF8C00        rgb(255,140,0)\n",
      "11      11    NaN     lightyellow           #FFFFE0      rgb(255,255,224)\n",
      "12      12    NaN    lemonchiffon           #FFFACD      rgb(255,250,205)\n",
      "13      13    NaN      papayawhip           #FFEFD5      rgb(255,239,213)\n",
      "14      14    NaN        moccasin           #FFE4B5      rgb(255,228,181)\n",
      "15      15    NaN       peachpuff           #FFDAB9      rgb(255,218,185)\n",
      "16      16    NaN   palegoldenrod           #EEE8AA      rgb(238,232,170)\n",
      "17      17    NaN           khaki           #F0E68C      rgb(240,230,140)\n",
      "18      18    NaN       darkkhaki           #BDB76B      rgb(189,183,107)\n",
      "19      19    NaN          yellow           #FFFF00        rgb(255,255,0)\n",
      "20      20    NaN       lawngreen           #7CFC00        rgb(124,252,0)\n",
      "21      21    NaN      chartreuse           #7FFF00        rgb(127,255,0)\n",
      "22      22    NaN       limegreen           #32CD32        rgb(50,205,50)\n",
      "23      23    NaN            lime           #00FF00          rgb(0.255.0)\n",
      "24      24    NaN     forestgreen           #228B22        rgb(34,139,34)\n",
      "25      25    NaN           green           #008000          rgb(0,128,0)\n",
      "26      26    NaN      powderblue           #B0E0E6      rgb(176,224,230)\n",
      "27      27    NaN       lightblue           #ADD8E6      rgb(173,216,230)\n",
      "28      28    NaN    lightskyblue           #87CEFA      rgb(135,206,250)\n",
      "29      29    NaN         skyblue           #87CEEB      rgb(135,206,235)\n",
      "30      30    NaN     deepskyblue           #00BFFF        rgb(0,191,255)\n",
      "31      31    NaN  lightsteelblue           #B0C4DE      rgb(176,196,222)\n",
      "32      32    NaN      dodgerblue           #1E90FF       rgb(30,144,255)]\n"
     ]
    }
   ],
   "source": [
    "print(tables)"
   ]
  },
  {
   "cell_type": "code",
   "execution_count": 90,
   "id": "a99379e7-2d98-4bc5-bd46-6e9d1a903e9e",
   "metadata": {},
   "outputs": [
    {
     "data": {
      "text/html": [
       "<div>\n",
       "<style scoped>\n",
       "    .dataframe tbody tr th:only-of-type {\n",
       "        vertical-align: middle;\n",
       "    }\n",
       "\n",
       "    .dataframe tbody tr th {\n",
       "        vertical-align: top;\n",
       "    }\n",
       "\n",
       "    .dataframe thead th {\n",
       "        text-align: right;\n",
       "    }\n",
       "</style>\n",
       "<table border=\"1\" class=\"dataframe\">\n",
       "  <thead>\n",
       "    <tr style=\"text-align: right;\">\n",
       "      <th></th>\n",
       "      <th>0</th>\n",
       "      <th>1</th>\n",
       "      <th>2</th>\n",
       "      <th>3</th>\n",
       "      <th>4</th>\n",
       "    </tr>\n",
       "  </thead>\n",
       "  <tbody>\n",
       "    <tr>\n",
       "      <th>0</th>\n",
       "      <td>Number</td>\n",
       "      <td>Color</td>\n",
       "      <td>Color Name</td>\n",
       "      <td>Hex Code #RRGGBB</td>\n",
       "      <td>Decimal Code (R,G,B)</td>\n",
       "    </tr>\n",
       "    <tr>\n",
       "      <th>1</th>\n",
       "      <td>1</td>\n",
       "      <td>NaN</td>\n",
       "      <td>lightsalmon</td>\n",
       "      <td>#FFA07A</td>\n",
       "      <td>rgb(255,160,122)</td>\n",
       "    </tr>\n",
       "    <tr>\n",
       "      <th>2</th>\n",
       "      <td>2</td>\n",
       "      <td>NaN</td>\n",
       "      <td>salmon</td>\n",
       "      <td>#FA8072</td>\n",
       "      <td>rgb(250,128,114)</td>\n",
       "    </tr>\n",
       "    <tr>\n",
       "      <th>3</th>\n",
       "      <td>3</td>\n",
       "      <td>NaN</td>\n",
       "      <td>darksalmon</td>\n",
       "      <td>#E9967A</td>\n",
       "      <td>rgb(233,150,122)</td>\n",
       "    </tr>\n",
       "    <tr>\n",
       "      <th>4</th>\n",
       "      <td>4</td>\n",
       "      <td>NaN</td>\n",
       "      <td>lightcoral</td>\n",
       "      <td>#F08080</td>\n",
       "      <td>rgb(240,128,128)</td>\n",
       "    </tr>\n",
       "    <tr>\n",
       "      <th>5</th>\n",
       "      <td>5</td>\n",
       "      <td>NaN</td>\n",
       "      <td>coral</td>\n",
       "      <td>#FF7F50</td>\n",
       "      <td>rgb(255,127,80)</td>\n",
       "    </tr>\n",
       "    <tr>\n",
       "      <th>6</th>\n",
       "      <td>6</td>\n",
       "      <td>NaN</td>\n",
       "      <td>tomato</td>\n",
       "      <td>#FF6347</td>\n",
       "      <td>rgb(255,99,71)</td>\n",
       "    </tr>\n",
       "    <tr>\n",
       "      <th>7</th>\n",
       "      <td>7</td>\n",
       "      <td>NaN</td>\n",
       "      <td>orangered</td>\n",
       "      <td>#FF4500</td>\n",
       "      <td>rgb(255,69,0)</td>\n",
       "    </tr>\n",
       "    <tr>\n",
       "      <th>8</th>\n",
       "      <td>8</td>\n",
       "      <td>NaN</td>\n",
       "      <td>gold</td>\n",
       "      <td>#FFD700</td>\n",
       "      <td>rgb(255,215,0)</td>\n",
       "    </tr>\n",
       "    <tr>\n",
       "      <th>9</th>\n",
       "      <td>9</td>\n",
       "      <td>NaN</td>\n",
       "      <td>orange</td>\n",
       "      <td>#FFA500</td>\n",
       "      <td>rgb(255,165,0)</td>\n",
       "    </tr>\n",
       "    <tr>\n",
       "      <th>10</th>\n",
       "      <td>10</td>\n",
       "      <td>NaN</td>\n",
       "      <td>darkorange</td>\n",
       "      <td>#FF8C00</td>\n",
       "      <td>rgb(255,140,0)</td>\n",
       "    </tr>\n",
       "    <tr>\n",
       "      <th>11</th>\n",
       "      <td>11</td>\n",
       "      <td>NaN</td>\n",
       "      <td>lightyellow</td>\n",
       "      <td>#FFFFE0</td>\n",
       "      <td>rgb(255,255,224)</td>\n",
       "    </tr>\n",
       "    <tr>\n",
       "      <th>12</th>\n",
       "      <td>12</td>\n",
       "      <td>NaN</td>\n",
       "      <td>lemonchiffon</td>\n",
       "      <td>#FFFACD</td>\n",
       "      <td>rgb(255,250,205)</td>\n",
       "    </tr>\n",
       "    <tr>\n",
       "      <th>13</th>\n",
       "      <td>13</td>\n",
       "      <td>NaN</td>\n",
       "      <td>papayawhip</td>\n",
       "      <td>#FFEFD5</td>\n",
       "      <td>rgb(255,239,213)</td>\n",
       "    </tr>\n",
       "    <tr>\n",
       "      <th>14</th>\n",
       "      <td>14</td>\n",
       "      <td>NaN</td>\n",
       "      <td>moccasin</td>\n",
       "      <td>#FFE4B5</td>\n",
       "      <td>rgb(255,228,181)</td>\n",
       "    </tr>\n",
       "    <tr>\n",
       "      <th>15</th>\n",
       "      <td>15</td>\n",
       "      <td>NaN</td>\n",
       "      <td>peachpuff</td>\n",
       "      <td>#FFDAB9</td>\n",
       "      <td>rgb(255,218,185)</td>\n",
       "    </tr>\n",
       "    <tr>\n",
       "      <th>16</th>\n",
       "      <td>16</td>\n",
       "      <td>NaN</td>\n",
       "      <td>palegoldenrod</td>\n",
       "      <td>#EEE8AA</td>\n",
       "      <td>rgb(238,232,170)</td>\n",
       "    </tr>\n",
       "    <tr>\n",
       "      <th>17</th>\n",
       "      <td>17</td>\n",
       "      <td>NaN</td>\n",
       "      <td>khaki</td>\n",
       "      <td>#F0E68C</td>\n",
       "      <td>rgb(240,230,140)</td>\n",
       "    </tr>\n",
       "    <tr>\n",
       "      <th>18</th>\n",
       "      <td>18</td>\n",
       "      <td>NaN</td>\n",
       "      <td>darkkhaki</td>\n",
       "      <td>#BDB76B</td>\n",
       "      <td>rgb(189,183,107)</td>\n",
       "    </tr>\n",
       "    <tr>\n",
       "      <th>19</th>\n",
       "      <td>19</td>\n",
       "      <td>NaN</td>\n",
       "      <td>yellow</td>\n",
       "      <td>#FFFF00</td>\n",
       "      <td>rgb(255,255,0)</td>\n",
       "    </tr>\n",
       "    <tr>\n",
       "      <th>20</th>\n",
       "      <td>20</td>\n",
       "      <td>NaN</td>\n",
       "      <td>lawngreen</td>\n",
       "      <td>#7CFC00</td>\n",
       "      <td>rgb(124,252,0)</td>\n",
       "    </tr>\n",
       "    <tr>\n",
       "      <th>21</th>\n",
       "      <td>21</td>\n",
       "      <td>NaN</td>\n",
       "      <td>chartreuse</td>\n",
       "      <td>#7FFF00</td>\n",
       "      <td>rgb(127,255,0)</td>\n",
       "    </tr>\n",
       "    <tr>\n",
       "      <th>22</th>\n",
       "      <td>22</td>\n",
       "      <td>NaN</td>\n",
       "      <td>limegreen</td>\n",
       "      <td>#32CD32</td>\n",
       "      <td>rgb(50,205,50)</td>\n",
       "    </tr>\n",
       "    <tr>\n",
       "      <th>23</th>\n",
       "      <td>23</td>\n",
       "      <td>NaN</td>\n",
       "      <td>lime</td>\n",
       "      <td>#00FF00</td>\n",
       "      <td>rgb(0.255.0)</td>\n",
       "    </tr>\n",
       "    <tr>\n",
       "      <th>24</th>\n",
       "      <td>24</td>\n",
       "      <td>NaN</td>\n",
       "      <td>forestgreen</td>\n",
       "      <td>#228B22</td>\n",
       "      <td>rgb(34,139,34)</td>\n",
       "    </tr>\n",
       "    <tr>\n",
       "      <th>25</th>\n",
       "      <td>25</td>\n",
       "      <td>NaN</td>\n",
       "      <td>green</td>\n",
       "      <td>#008000</td>\n",
       "      <td>rgb(0,128,0)</td>\n",
       "    </tr>\n",
       "    <tr>\n",
       "      <th>26</th>\n",
       "      <td>26</td>\n",
       "      <td>NaN</td>\n",
       "      <td>powderblue</td>\n",
       "      <td>#B0E0E6</td>\n",
       "      <td>rgb(176,224,230)</td>\n",
       "    </tr>\n",
       "    <tr>\n",
       "      <th>27</th>\n",
       "      <td>27</td>\n",
       "      <td>NaN</td>\n",
       "      <td>lightblue</td>\n",
       "      <td>#ADD8E6</td>\n",
       "      <td>rgb(173,216,230)</td>\n",
       "    </tr>\n",
       "    <tr>\n",
       "      <th>28</th>\n",
       "      <td>28</td>\n",
       "      <td>NaN</td>\n",
       "      <td>lightskyblue</td>\n",
       "      <td>#87CEFA</td>\n",
       "      <td>rgb(135,206,250)</td>\n",
       "    </tr>\n",
       "    <tr>\n",
       "      <th>29</th>\n",
       "      <td>29</td>\n",
       "      <td>NaN</td>\n",
       "      <td>skyblue</td>\n",
       "      <td>#87CEEB</td>\n",
       "      <td>rgb(135,206,235)</td>\n",
       "    </tr>\n",
       "    <tr>\n",
       "      <th>30</th>\n",
       "      <td>30</td>\n",
       "      <td>NaN</td>\n",
       "      <td>deepskyblue</td>\n",
       "      <td>#00BFFF</td>\n",
       "      <td>rgb(0,191,255)</td>\n",
       "    </tr>\n",
       "    <tr>\n",
       "      <th>31</th>\n",
       "      <td>31</td>\n",
       "      <td>NaN</td>\n",
       "      <td>lightsteelblue</td>\n",
       "      <td>#B0C4DE</td>\n",
       "      <td>rgb(176,196,222)</td>\n",
       "    </tr>\n",
       "    <tr>\n",
       "      <th>32</th>\n",
       "      <td>32</td>\n",
       "      <td>NaN</td>\n",
       "      <td>dodgerblue</td>\n",
       "      <td>#1E90FF</td>\n",
       "      <td>rgb(30,144,255)</td>\n",
       "    </tr>\n",
       "  </tbody>\n",
       "</table>\n",
       "</div>"
      ],
      "text/plain": [
       "         0      1               2                 3                     4\n",
       "0   Number  Color      Color Name  Hex Code #RRGGBB  Decimal Code (R,G,B)\n",
       "1        1    NaN     lightsalmon           #FFA07A      rgb(255,160,122)\n",
       "2        2    NaN          salmon           #FA8072      rgb(250,128,114)\n",
       "3        3    NaN      darksalmon           #E9967A      rgb(233,150,122)\n",
       "4        4    NaN      lightcoral           #F08080      rgb(240,128,128)\n",
       "5        5    NaN           coral           #FF7F50       rgb(255,127,80)\n",
       "6        6    NaN          tomato           #FF6347        rgb(255,99,71)\n",
       "7        7    NaN       orangered           #FF4500         rgb(255,69,0)\n",
       "8        8    NaN            gold           #FFD700        rgb(255,215,0)\n",
       "9        9    NaN          orange           #FFA500        rgb(255,165,0)\n",
       "10      10    NaN      darkorange           #FF8C00        rgb(255,140,0)\n",
       "11      11    NaN     lightyellow           #FFFFE0      rgb(255,255,224)\n",
       "12      12    NaN    lemonchiffon           #FFFACD      rgb(255,250,205)\n",
       "13      13    NaN      papayawhip           #FFEFD5      rgb(255,239,213)\n",
       "14      14    NaN        moccasin           #FFE4B5      rgb(255,228,181)\n",
       "15      15    NaN       peachpuff           #FFDAB9      rgb(255,218,185)\n",
       "16      16    NaN   palegoldenrod           #EEE8AA      rgb(238,232,170)\n",
       "17      17    NaN           khaki           #F0E68C      rgb(240,230,140)\n",
       "18      18    NaN       darkkhaki           #BDB76B      rgb(189,183,107)\n",
       "19      19    NaN          yellow           #FFFF00        rgb(255,255,0)\n",
       "20      20    NaN       lawngreen           #7CFC00        rgb(124,252,0)\n",
       "21      21    NaN      chartreuse           #7FFF00        rgb(127,255,0)\n",
       "22      22    NaN       limegreen           #32CD32        rgb(50,205,50)\n",
       "23      23    NaN            lime           #00FF00          rgb(0.255.0)\n",
       "24      24    NaN     forestgreen           #228B22        rgb(34,139,34)\n",
       "25      25    NaN           green           #008000          rgb(0,128,0)\n",
       "26      26    NaN      powderblue           #B0E0E6      rgb(176,224,230)\n",
       "27      27    NaN       lightblue           #ADD8E6      rgb(173,216,230)\n",
       "28      28    NaN    lightskyblue           #87CEFA      rgb(135,206,250)\n",
       "29      29    NaN         skyblue           #87CEEB      rgb(135,206,235)\n",
       "30      30    NaN     deepskyblue           #00BFFF        rgb(0,191,255)\n",
       "31      31    NaN  lightsteelblue           #B0C4DE      rgb(176,196,222)\n",
       "32      32    NaN      dodgerblue           #1E90FF       rgb(30,144,255)"
      ]
     },
     "execution_count": 90,
     "metadata": {},
     "output_type": "execute_result"
    }
   ],
   "source": [
    "# get the first element of the list only\n",
    "tables[0]"
   ]
  },
  {
   "cell_type": "markdown",
   "id": "f3e460e5-28f9-43f2-9a4b-9f020ee0c07c",
   "metadata": {},
   "source": [
    "### Author: Paul John Julongbayan"
   ]
  }
 ],
 "metadata": {
  "kernelspec": {
   "display_name": "Python 3 (ipykernel)",
   "language": "python",
   "name": "python3"
  },
  "language_info": {
   "codemirror_mode": {
    "name": "ipython",
    "version": 3
   },
   "file_extension": ".py",
   "mimetype": "text/x-python",
   "name": "python",
   "nbconvert_exporter": "python",
   "pygments_lexer": "ipython3",
   "version": "3.11.7"
  }
 },
 "nbformat": 4,
 "nbformat_minor": 5
}
